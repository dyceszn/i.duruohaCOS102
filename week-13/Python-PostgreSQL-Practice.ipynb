{
 "cells": [
  {
   "cell_type": "markdown",
   "metadata": {},
   "source": [
    "# Python - PostgreSQL"
   ]
  },
  {
   "cell_type": "markdown",
   "metadata": {},
   "source": [
    "<ul><li>PostgreSQL can be integrated with Python using psycopg2 module.</li><li>psycopg2 is a PostgreSQL database adapter for the Python programming language.</li><li>psycopg2 was written with the aim of being very small and fast, and stable as a rock.</li><li> You do not need to install this module separately because it is shipped, by default, along with Python version 2.5.x onwards.</li></ul>"
   ]
  },
  {
   "cell_type": "markdown",
   "metadata": {},
   "source": [
    "# Python psycopg2 Module APIs\n",
    "\n",
    "If you do not have it installed on your machine then you can use the command to install it as follows:"
   ]
  },
  {
   "cell_type": "code",
   "execution_count": null,
   "metadata": {},
   "outputs": [],
   "source": [
    "pip install psycopg2"
   ]
  },
  {
   "cell_type": "markdown",
   "metadata": {},
   "source": [
    "If the above command causes an error then use the command:"
   ]
  },
  {
   "cell_type": "code",
   "execution_count": null,
   "metadata": {},
   "outputs": [],
   "source": [
    "pip install psycopg2-binary"
   ]
  },
  {
   "cell_type": "markdown",
   "metadata": {},
   "source": [
    "The following are important psycopg2 module routines:"
   ]
  },
  {
   "cell_type": "markdown",
   "metadata": {},
   "source": [
    "<table border=1 style=\"font-size:15px;\">\n",
    "    <tr>\n",
    "        <td width=200><b>APIs</b></td><td width=800><b>Description</b></td>\n",
    "    </tr>\n",
    "    <tr>\n",
    "        <td>psycopg2.connect()</td><td>This API opens a connection to the PostgreSQL database.</td>\n",
    "    </tr>\n",
    "     <tr>\n",
    "        <td>connection.cursor()</td><td>This routine creates a cursor which will be used throughout of your database programming with Python.</td>\n",
    "    </tr>\n",
    "    <tr>\n",
    "        <td>cursor.execute()</td><td>This routine executes an SQL statement. The SQL statement may be parameterized (i.e., placeholders instead of SQL literals).</td>\n",
    "    </tr>\n",
    "     <tr>\n",
    "        <td>connection.close()</td><td>DescriptionThis method closes the database connection.</td>\n",
    "    </tr>\n",
    "    <tr>\n",
    "        <td>cursor.fetchone()</td><td>This method fetches the next row of a query result set, returning a single sequence, or None when no more data is available.</td>\n",
    "    </tr>\n",
    "     <tr>\n",
    "        <td>cursor.fetchall()</td><td>This routine fetches all (remaining) rows of a query result, returning a list. An empty list is returned when no rows are available.</td>\n",
    "    </tr>\n",
    "    <tr>\n",
    "        <td>psycopg2.connect()</td><td>This API opens a connection to the PostgreSQL database.</td>\n",
    "    </tr>\n",
    "</table>"
   ]
  },
  {
   "cell_type": "markdown",
   "metadata": {},
   "source": [
    "# Connecting to a Database"
   ]
  },
  {
   "cell_type": "code",
   "execution_count": 4,
   "metadata": {},
   "outputs": [
    {
     "name": "stdout",
     "output_type": "stream",
     "text": [
      "Connection to PostgreSQL DB successful\n",
      "PostgreSQL database version: ('PostgreSQL 16.1 on x86_64-apple-darwin20.6.0, compiled by Apple clang version 12.0.5 (clang-1205.0.22.9), 64-bit',)\n"
     ]
    }
   ],
   "source": [
    "import psycopg2\n",
    "\n",
    "# Database connection parameters\n",
    "host = \"localhost\"\n",
    "port = \"5432\"\n",
    "dbname = \"cos101_db\"\n",
    "user = \"postgres\"\n",
    "password = \"cos101\"\n",
    "\n",
    "# Establish the connection\n",
    "try:\n",
    "    connection = psycopg2.connect(\n",
    "        host=host,\n",
    "        port=port,\n",
    "        dbname=dbname,\n",
    "        user=user,\n",
    "        password=password\n",
    "    )\n",
    "    print(\"Connection to PostgreSQL DB successful\")\n",
    "\n",
    "    # Create a cursor object\n",
    "    cursor = connection.cursor()\n",
    "\n",
    "    # Execute a SQL query\n",
    "    cursor.execute(\"SELECT version();\")\n",
    "    \n",
    "    # Fetch and print the result of the query\n",
    "    db_version = cursor.fetchone()\n",
    "    print(f\"PostgreSQL database version: {db_version}\")\n",
    "\n",
    "    # Close the cursor and connection\n",
    "    cursor.close()\n",
    "    connection.close()\n",
    "\n",
    "except Exception as error:\n",
    "    print(f\"Error connecting to PostgreSQL DB: {error}\")\n"
   ]
  },
  {
   "cell_type": "markdown",
   "metadata": {},
   "source": [
    "# Selecting existing Database"
   ]
  },
  {
   "cell_type": "code",
   "execution_count": 7,
   "metadata": {},
   "outputs": [
    {
     "name": "stdout",
     "output_type": "stream",
     "text": [
      "Connection to PostgreSQL DB successful\n",
      "column1  |  column2\n",
      "------------------------\n",
      "1       |  Chuks\n",
      "2       |  Ethel\n",
      "3       |  Adenike\n",
      "4       |  Hassan\n",
      "5       |  David\n",
      "6       |  Chisom\n"
     ]
    }
   ],
   "source": [
    "import psycopg2\n",
    "\n",
    "# Database connection parameters\n",
    "host = \"localhost\"\n",
    "port = \"5432\"\n",
    "dbname = \"cos101_db\"\n",
    "user = \"postgres\"\n",
    "password = \"cos101\"\n",
    "\n",
    "# Establish the connection\n",
    "try:\n",
    "    connection = psycopg2.connect(\n",
    "        host=host,\n",
    "        port=port,\n",
    "        dbname=dbname,\n",
    "        user=user,\n",
    "        password=password\n",
    "    )\n",
    "    print(\"Connection to PostgreSQL DB successful\")\n",
    "\n",
    "    # Create a cursor object\n",
    "    cursor = connection.cursor()\n",
    "\n",
    "    # Define the SQL SELECT query\n",
    "    select_query = \"SELECT * FROM company;\"\n",
    "\n",
    "    # Execute the query\n",
    "    cursor.execute(select_query)\n",
    "\n",
    "    # Fetch all rows from the executed query\n",
    "    data = cursor.fetchall()\n",
    "\n",
    "    print(\"column1\", \" | \", \"column2\")\n",
    "    print(\"------------------------\")\n",
    "        \n",
    "    # Iterate through the rows and print them\n",
    "    for row in data:\n",
    "        print(f\"{row[0]}       |  {row[1]}\")\n",
    "\n",
    "    # Close the cursor and connection\n",
    "    cursor.close()\n",
    "    connection.close()\n",
    "\n",
    "except Exception as error:\n",
    "    print(f\"Error connecting to PostgreSQL DB: {error}\")\n"
   ]
  },
  {
   "cell_type": "markdown",
   "metadata": {},
   "source": [
    "# Create a new Database"
   ]
  },
  {
   "cell_type": "code",
   "execution_count": 9,
   "metadata": {},
   "outputs": [
    {
     "name": "stdout",
     "output_type": "stream",
     "text": [
      "Connection to PostgreSQL server successful\n",
      "Database 'cos102_db' created successfully\n"
     ]
    }
   ],
   "source": [
    "import psycopg2\n",
    "from psycopg2 import sql\n",
    "\n",
    "# Parameters to connect to the existing PostgreSQL server\n",
    "host = \"localhost\"\n",
    "port = \"5432\"\n",
    "dbname = \"\"\n",
    "user = \"postgres\"\n",
    "password = \"cos101\"  # Connect to the default database\n",
    "\n",
    "# Name of the new database to be created\n",
    "new_dbname = \"cos102_db\"\n",
    "\n",
    "try:\n",
    "    # Connect to the PostgreSQL server\n",
    "    connection = psycopg2.connect(\n",
    "        host=host,\n",
    "        port=port,\n",
    "        dbname=dbname,\n",
    "        user=user,\n",
    "        password=password\n",
    "    )\n",
    "    connection.autocommit = True  # Enable autocommit mode\n",
    "    print(\"Connection to PostgreSQL server successful\")\n",
    "\n",
    "    # Create a cursor object\n",
    "    cursor = connection.cursor()\n",
    "\n",
    "    # Define the SQL statement to create a new database\n",
    "\n",
    "    create_db_query = sql.SQL(\"CREATE DATABASE {}\").format(sql.Identifier(new_dbname))\n",
    "\n",
    "    # Execute the SQL statement\n",
    "    cursor.execute(create_db_query)\n",
    "    print(f\"Database '{new_dbname}' created successfully\")\n",
    "\n",
    "    # Close the cursor and connection\n",
    "    cursor.close()\n",
    "    connection.close()\n",
    "\n",
    "except Exception as error:\n",
    "    print(f\"Error creating the database: {error}\")\n"
   ]
  },
  {
   "cell_type": "markdown",
   "metadata": {},
   "source": [
    "# Create a Table"
   ]
  },
  {
   "cell_type": "code",
   "execution_count": 11,
   "metadata": {},
   "outputs": [
    {
     "name": "stdout",
     "output_type": "stream",
     "text": [
      "Connection to PostgreSQL DB successful\n",
      "Table created successfully\n"
     ]
    }
   ],
   "source": [
    "import psycopg2\n",
    "\n",
    "# Database connection parameters\n",
    "host = \"localhost\"\n",
    "port = \"5432\"\n",
    "dbname = \"cos102_db\"\n",
    "user = \"postgres\"\n",
    "password = \"cos101\" \n",
    "\n",
    "try:\n",
    "    # Connect to the PostgreSQL database\n",
    "    connection = psycopg2.connect(\n",
    "        host=host,\n",
    "        port=port,\n",
    "        dbname=dbname,\n",
    "        user=user,\n",
    "        password=password\n",
    "    )\n",
    "    connection.autocommit = True  # Enable autocommit mode\n",
    "    \n",
    "    print(\"Connection to PostgreSQL DB successful\")\n",
    "\n",
    "    # Create a cursor object\n",
    "    cursor = connection.cursor()\n",
    "\n",
    "    # Define the SQL statement to create a new table\n",
    "    create_table_query = \"\"\"\n",
    "    CREATE TABLE sst_info (\n",
    "        id SERIAL PRIMARY KEY,\n",
    "        name VARCHAR(50) NOT NULL,\n",
    "        age INT NOT NULL,\n",
    "        department VARCHAR NOT NULL,\n",
    "        password VARCHAR NOT NULL\n",
    "    );\n",
    "    \"\"\"\n",
    "\n",
    "    # Execute the SQL statement\n",
    "    cursor.execute(create_table_query)\n",
    "    print(\"Table created successfully\")\n",
    "\n",
    "    # Close the cursor and connection\n",
    "    cursor.close()\n",
    "    connection.close()\n",
    "\n",
    "except Exception as error:\n",
    "    print(f\"Error creating table: {error}\")\n"
   ]
  },
  {
   "cell_type": "markdown",
   "metadata": {},
   "source": [
    "# INSERT into Table"
   ]
  },
  {
   "cell_type": "code",
   "execution_count": 12,
   "metadata": {},
   "outputs": [
    {
     "name": "stdout",
     "output_type": "stream",
     "text": [
      "Connection to PostgreSQL DB successful\n",
      "Data inserted successfully\n"
     ]
    }
   ],
   "source": [
    "import psycopg2\n",
    "\n",
    "# Database connection parameters\n",
    "host = \"localhost\"\n",
    "port = \"5432\"\n",
    "dbname = \"cos102_db\"\n",
    "user = \"postgres\"\n",
    "password = \"cos101\" \n",
    "\n",
    "try:\n",
    "    # Connect to the PostgreSQL database\n",
    "    connection = psycopg2.connect(\n",
    "        host=host,\n",
    "        port=port,\n",
    "        dbname=dbname,\n",
    "        user=user,\n",
    "        password=password\n",
    "    )\n",
    "    connection.autocommit = True  # Enable autocommit mode\n",
    "    print(\"Connection to PostgreSQL DB successful\")\n",
    "\n",
    "    # Create a cursor object\n",
    "    cursor = connection.cursor()\n",
    "\n",
    "    # Define the SQL INSERT statement\n",
    "    insert_query = \"\"\"\n",
    "    INSERT INTO sst_info (id, name, age, department, password)\n",
    "    VALUES (%s, %s, %s, %s, %s);\n",
    "    \"\"\"\n",
    "    \n",
    "    # Data to be inserted\n",
    "    data_to_insert = (1, \"Jamel Ojo\", 20, \"Software Engineering\", \"anthelo4\")\n",
    "\n",
    "    # Execute the SQL statement\n",
    "    cursor.execute(insert_query, data_to_insert)\n",
    "    print(\"Data inserted successfully\")\n",
    "\n",
    "    # Close the cursor and connection\n",
    "    cursor.close()\n",
    "    connection.close()\n",
    "\n",
    "except Exception as error:\n",
    "    print(f\"Error inserting data: {error}\")\n"
   ]
  },
  {
   "cell_type": "markdown",
   "metadata": {},
   "source": [
    "# SELECT from Table"
   ]
  },
  {
   "cell_type": "code",
   "execution_count": 16,
   "metadata": {},
   "outputs": [
    {
     "name": "stdout",
     "output_type": "stream",
     "text": [
      "('Jamel Ojo', 20)\n"
     ]
    }
   ],
   "source": [
    "import psycopg2\n",
    "\n",
    "# Define your database connection parameters\n",
    "db_params = {\n",
    "    'dbname': 'cos102_db',\n",
    "    'user': 'postgres',\n",
    "    'password': 'cos101',\n",
    "    'host': 'localhost',\n",
    "    'port': '5432'  # Default is '5432'\n",
    "}\n",
    "\n",
    "try:\n",
    "    # Establish a connection to the database\n",
    "    connection = psycopg2.connect(**db_params)\n",
    "\n",
    "    # Create a cursor object\n",
    "    cursor = connection.cursor()\n",
    "\n",
    "    # Define the SQL query\n",
    "    select_query = \"SELECT name, age FROM sst_info WHERE age < 30\"\n",
    "\n",
    "    # Execute the SQL query\n",
    "    cursor.execute(select_query)\n",
    "\n",
    "    # Fetch all the results\n",
    "    results = cursor.fetchall()\n",
    "\n",
    "    # Print the results\n",
    "    for row in results:\n",
    "        print(row)\n",
    "\n",
    "except Exception as error:\n",
    "    print(f\"Error while connecting to PostgreSQL: {error}\")\n",
    "\n",
    "finally:\n",
    "    # Close the cursor and connection to clean up\n",
    "    if cursor:\n",
    "        cursor.close()\n",
    "    if connection:\n",
    "        connection.close()\n"
   ]
  },
  {
   "cell_type": "markdown",
   "metadata": {},
   "source": [
    "# Class Project I"
   ]
  },
  {
   "cell_type": "markdown",
   "metadata": {},
   "source": [
    "Paystack is a Nigerian financial technology company that offers payment processing services to businesses. As a technology company, Paystack solves payment problems for ambitious businesses. Its mission is to help businesses in Africa become profitable, envied, and loved. They make it easy for businesses to accept secure payments from multiple local and global payment channels. They also provide tools to help you retain and acquire new customers. Currently, Paystack is restructuring the team network. It is a diverse, close-knit team on an adventure to build something enduring while learning something new, every day. \n",
    "\n"
   ]
  },
  {
   "cell_type": "markdown",
   "metadata": {},
   "source": [
    "<img src=\"paystack.jpg\">"
   ]
  },
  {
   "cell_type": "markdown",
   "metadata": {},
   "source": [
    "With your knowledge in python programming develop an application that creates the database named <b>Paystack_Team</b>. <br>The purpose of the application is to enable management to perform the following queries:\n",
    "<ul>\n",
    "    <li>Team Members in Revenue Division</li>\n",
    "    <li>Team Members in Growth and Product Division whose age is greater than 30 years but less than 35 years</li>\n",
    "    <li>Team Members in Modules 1,3 and 5</li>\n",
    "    <li>Team Members in Modules 4 and Product Division</li>\n",
    "</ul>"
   ]
  },
  {
   "cell_type": "code",
   "execution_count": 17,
   "metadata": {},
   "outputs": [
    {
     "name": "stdout",
     "output_type": "stream",
     "text": [
      "Connection to PostgreSQL server successful\n",
      "Database 'paystack_team_db' created successfully\n",
      "Table created successfully\n",
      "Data inserted successfully\n",
      "Team Members in Revenue Division\n",
      "(15, 'Bolaji Akande')\n",
      "(18, 'Ijeoma Opara')\n",
      "(20, 'Dapo Awobokun')\n",
      "(21, 'Charles Idem')\n",
      "Team Members in Growth, Revenue, and Product Division whose age is greater than 30 years but less than 35 years\n",
      "(5, 'Seike Ibojo')\n",
      "(13, 'Emmanuel Quartey')\n",
      "(14, 'Awatt Bassey')\n",
      "(17, 'King Makanjuola')\n",
      "(19, 'Dipo Omobomi')\n",
      "(22, 'Ayobami Alo')\n",
      "Team Members in Modules 1, 3, and 5\n",
      "(1, 'Oyinda Aina')\n",
      "(2, 'Wale Eseyin')\n",
      "(4, 'Onyekachi Mbaike')\n",
      "(6, 'Opemipo Aikomo')\n",
      "(7, 'Ezra Olubi')\n",
      "(8, 'Alexander Fasoro')\n",
      "(10, 'Loknan Nanyak')\n",
      "(12, 'Fisayo Kolawole')\n",
      "(13, 'Emmanuel Quartey')\n",
      "(15, 'Bolaji Akande')\n",
      "(16, 'Mohini Ufeli')\n",
      "(19, 'Dipo Omobomi')\n",
      "(20, 'Dapo Awobokun')\n",
      "(21, 'Charles Idem')\n",
      "Team Members in Modules 4 and Product Division\n",
      "(3, 'Khadijah Abu')\n",
      "(5, 'Seike Ibojo')\n",
      "(7, 'Ezra Olubi')\n",
      "(11, 'Ibrahim Lawal')\n",
      "(17, 'King Makanjuola')\n",
      "(19, 'Dipo Omobomi')\n",
      "(22, 'Ayobami Alo')\n"
     ]
    }
   ],
   "source": [
    "import psycopg2\n",
    "from psycopg2 import sql\n",
    "\n",
    "# Parameters to connect to the existing PostgreSQL server\n",
    "host = \"localhost\"\n",
    "port = \"5432\"\n",
    "dbname = \"postgres\"  # Default database\n",
    "user = \"postgres\"\n",
    "password = \"cos101\"\n",
    "\n",
    "# Name of the new database to be created\n",
    "new_dbname = \"paystack_team_db\"\n",
    "\n",
    "try:\n",
    "    # Connect to the PostgreSQL server\n",
    "    connection = psycopg2.connect(\n",
    "        host=host,\n",
    "        port=port,\n",
    "        dbname=dbname,\n",
    "        user=user,\n",
    "        password=password\n",
    "    )\n",
    "    connection.autocommit = True  # Enable autocommit mode\n",
    "    print(\"Connection to PostgreSQL server successful\")\n",
    "    \n",
    "    cursor = connection.cursor()  # Create a cursor object\n",
    "\n",
    "    # Create paystack database\n",
    "    create_db_query = sql.SQL(\"CREATE DATABASE {}\").format(sql.Identifier(new_dbname))\n",
    "    cursor.execute(create_db_query)  # Executing the create database query\n",
    "    print(f\"Database '{new_dbname}' created successfully\")\n",
    "\n",
    "    # Close the cursor and connection to the default database\n",
    "    cursor.close()\n",
    "    connection.close()\n",
    "\n",
    "    # Connect to the new database\n",
    "    connection = psycopg2.connect(\n",
    "        host=host,\n",
    "        port=port,\n",
    "        dbname=new_dbname,\n",
    "        user=user,\n",
    "        password=password\n",
    "    )\n",
    "    connection.autocommit = True\n",
    "    cursor = connection.cursor()\n",
    "    \n",
    "    # Create paystack table\n",
    "    create_table_query = \"\"\"\n",
    "    CREATE TABLE paystack_team (\n",
    "        id SERIAL PRIMARY KEY,\n",
    "        name VARCHAR(50) NOT NULL,\n",
    "        division VARCHAR(50) NOT NULL,\n",
    "        age INT NOT NULL,\n",
    "        module INT NOT NULL\n",
    "    );\n",
    "    \"\"\"\n",
    "    cursor.execute(create_table_query)  # Execute the create table query\n",
    "    print(\"Table created successfully\")\n",
    "\n",
    "    # Insert data into the paystack table\n",
    "    insert_query = \"\"\"\n",
    "    INSERT INTO paystack_team (id, name, division, age, module)\n",
    "    VALUES (%s, %s, %s, %s, %s);\n",
    "    \"\"\"\n",
    "    \n",
    "    # Data to be inserted\n",
    "    data_to_insert = [\n",
    "        (1, 'Oyinda Aina', 'Business', 32, 1), \n",
    "        (2, 'Wale Eseyin', 'Engineering', 28, 3), \n",
    "        (3, 'Khadijah Abu', 'Product', 30, 2), \n",
    "        (4, 'Onyekachi Mbaike', 'Design', 37, 5),\n",
    "        (5, 'Seike Ibojo', 'Growth', 33, 4),\n",
    "        (6, 'Opemipo Aikomo', 'Design', 28, 1),\n",
    "        (7, 'Ezra Olubi', 'Product', 30, 3),\n",
    "        (8, 'Alexander Fasoro', 'Engineering', 35, 1),\n",
    "        (9, 'Stephen Amaza', 'Growth', 40, 2),\n",
    "        (10, 'Loknan Nanyak', 'Engineering', 44, 5),\n",
    "        (11, 'Ibrahim Lawal', 'Engineering', 39, 4),\n",
    "        (12, 'Fisayo Kolawole', 'Commercial', 27, 5),\n",
    "        (13, 'Emmanuel Quartey', 'Growth', 31, 1),\n",
    "        (14, 'Awatt Bassey', 'Growth', 32, 2),\n",
    "        (15, 'Bolaji Akande', 'Revenue', 30, 3),\n",
    "        (16, 'Mohini Ufeli', 'Growth', 29, 1),\n",
    "        (17, 'King Makanjuola', 'Product', 31, 4),\n",
    "        (18, 'Ijeoma Opara', 'Revenue', 26, 2),\n",
    "        (19, 'Dipo Omobomi', 'Product', 32, 5),\n",
    "        (20, 'Dapo Awobokun', 'Revenue', 35, 3),\n",
    "        (21, 'Charles Idem', 'Revenue', 38, 1),\n",
    "        (22, 'Ayobami Alo', 'Product', 34, 4),\n",
    "        (23, 'Aminat Badara', 'Growth', 30, 2)\n",
    "    ]\n",
    "    \n",
    "    for data in data_to_insert:\n",
    "        cursor.execute(insert_query, data)\n",
    "    print(\"Data inserted successfully\")\n",
    "\n",
    "    # Define the SQL queries\n",
    "    select_query1 = \"SELECT id, name FROM paystack_team WHERE division = 'Revenue'\"\n",
    "    select_query2 = \"SELECT id, name FROM paystack_team WHERE (division = 'Revenue' OR division = 'Growth' OR division = 'Product') AND age > 30 AND age < 35\"\n",
    "    select_query3 = \"SELECT id, name FROM paystack_team WHERE module = 1 OR module = 3 OR module = 5\"\n",
    "    select_query4 = \"SELECT id, name FROM paystack_team WHERE module = 4 OR division = 'Product'\"\n",
    "\n",
    "    # Execute the SQL query 1\n",
    "    cursor.execute(select_query1)\n",
    "    results = cursor.fetchall()\n",
    "    print('Team Members in Revenue Division')\n",
    "    for row in results:\n",
    "        print(row)\n",
    "        \n",
    "    # Execute the SQL query 2\n",
    "    cursor.execute(select_query2)\n",
    "    results = cursor.fetchall()\n",
    "    print('Team Members in Growth, Revenue, and Product Division whose age is greater than 30 years but less than 35 years')\n",
    "    for row in results:\n",
    "        print(row)\n",
    "\n",
    "    # Execute the SQL query 3\n",
    "    cursor.execute(select_query3)\n",
    "    results = cursor.fetchall()\n",
    "    print('Team Members in Modules 1, 3, and 5')\n",
    "    for row in results:\n",
    "        print(row)\n",
    "\n",
    "    # Execute the SQL query 4\n",
    "    cursor.execute(select_query4)\n",
    "    results = cursor.fetchall()\n",
    "    print('Team Members in Modules 4 and Product Division')\n",
    "    for row in results:\n",
    "        print(row)\n",
    "    \n",
    "\n",
    "except Exception as error:\n",
    "    print(f\"OOPS... Error occurred: {error}\")\n",
    "\n",
    "finally:\n",
    "    # Close the cursor and connection to clean up\n",
    "    if cursor:\n",
    "        cursor.close()\n",
    "    if connection:\n",
    "        connection.close()\n"
   ]
  }
 ],
 "metadata": {
  "kernelspec": {
   "display_name": "Python 3",
   "language": "python",
   "name": "python3"
  },
  "language_info": {
   "codemirror_mode": {
    "name": "ipython",
    "version": 3
   },
   "file_extension": ".py",
   "mimetype": "text/x-python",
   "name": "python",
   "nbconvert_exporter": "python",
   "pygments_lexer": "ipython3",
   "version": "3.12.2"
  }
 },
 "nbformat": 4,
 "nbformat_minor": 4
}
